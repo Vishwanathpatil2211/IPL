{
 "cells": [
  {
   "cell_type": "code",
   "execution_count": 1,
   "id": "29d73c22",
   "metadata": {},
   "outputs": [],
   "source": [
    "import numpy as np"
   ]
  },
  {
   "cell_type": "code",
   "execution_count": 2,
   "id": "cadcf4fb",
   "metadata": {},
   "outputs": [],
   "source": [
    "import pandas as pd"
   ]
  },
  {
   "cell_type": "code",
   "execution_count": 6,
   "id": "f0c1d079",
   "metadata": {},
   "outputs": [],
   "source": [
    "import matplotlib.pyplot as plt"
   ]
  },
  {
   "cell_type": "code",
   "execution_count": 7,
   "id": "6ac29b2c",
   "metadata": {},
   "outputs": [],
   "source": [
    "import seaborn as sns"
   ]
  },
  {
   "cell_type": "code",
   "execution_count": 8,
   "id": "07ebe50b",
   "metadata": {},
   "outputs": [],
   "source": [
    "def autolabel(rects):\n",
    "    for rect in rects:\n",
    "        height = rect.get_height()\n",
    "        ax.text(rect.get_x() + rect.get_width()/2., 1.02*height,\n",
    "                '%d' % int(height),\n",
    "                ha='center', va='bottom')"
   ]
  },
  {
   "cell_type": "code",
   "execution_count": 10,
   "id": "51638189",
   "metadata": {},
   "outputs": [],
   "source": [
    "data=pd.read_csv(\"Indian Premier League.zip\")"
   ]
  },
  {
   "cell_type": "code",
   "execution_count": 11,
   "id": "bebe18ef",
   "metadata": {},
   "outputs": [
    {
     "data": {
      "text/html": [
       "<div>\n",
       "<style scoped>\n",
       "    .dataframe tbody tr th:only-of-type {\n",
       "        vertical-align: middle;\n",
       "    }\n",
       "\n",
       "    .dataframe tbody tr th {\n",
       "        vertical-align: top;\n",
       "    }\n",
       "\n",
       "    .dataframe thead th {\n",
       "        text-align: right;\n",
       "    }\n",
       "</style>\n",
       "<table border=\"1\" class=\"dataframe\">\n",
       "  <thead>\n",
       "    <tr style=\"text-align: right;\">\n",
       "      <th></th>\n",
       "      <th>Match_Id</th>\n",
       "      <th>Innings_Id</th>\n",
       "      <th>Over_Id</th>\n",
       "      <th>Ball_Id</th>\n",
       "      <th>Team_Batting_Id</th>\n",
       "      <th>Team_Bowling_Id</th>\n",
       "      <th>Striker_Id</th>\n",
       "      <th>Striker_Batting_Position</th>\n",
       "      <th>Non_Striker_Id</th>\n",
       "      <th>Bowler_Id</th>\n",
       "      <th>Batsman_Scored</th>\n",
       "      <th>Extra_Type</th>\n",
       "      <th>Extra_Runs</th>\n",
       "      <th>Player_dissimal_Id</th>\n",
       "      <th>Dissimal_Type</th>\n",
       "      <th>Fielder_Id</th>\n",
       "    </tr>\n",
       "  </thead>\n",
       "  <tbody>\n",
       "    <tr>\n",
       "      <th>0</th>\n",
       "      <td>335987</td>\n",
       "      <td>1</td>\n",
       "      <td>1</td>\n",
       "      <td>1</td>\n",
       "      <td>1</td>\n",
       "      <td>2</td>\n",
       "      <td>1</td>\n",
       "      <td>1</td>\n",
       "      <td>2</td>\n",
       "      <td>14</td>\n",
       "      <td>0</td>\n",
       "      <td>legbyes</td>\n",
       "      <td>1</td>\n",
       "      <td></td>\n",
       "      <td></td>\n",
       "      <td></td>\n",
       "    </tr>\n",
       "    <tr>\n",
       "      <th>1</th>\n",
       "      <td>335987</td>\n",
       "      <td>1</td>\n",
       "      <td>1</td>\n",
       "      <td>2</td>\n",
       "      <td>1</td>\n",
       "      <td>2</td>\n",
       "      <td>2</td>\n",
       "      <td>2</td>\n",
       "      <td>1</td>\n",
       "      <td>14</td>\n",
       "      <td>0</td>\n",
       "      <td></td>\n",
       "      <td></td>\n",
       "      <td></td>\n",
       "      <td></td>\n",
       "      <td></td>\n",
       "    </tr>\n",
       "    <tr>\n",
       "      <th>2</th>\n",
       "      <td>335987</td>\n",
       "      <td>1</td>\n",
       "      <td>1</td>\n",
       "      <td>3</td>\n",
       "      <td>1</td>\n",
       "      <td>2</td>\n",
       "      <td>2</td>\n",
       "      <td>2</td>\n",
       "      <td>1</td>\n",
       "      <td>14</td>\n",
       "      <td>0</td>\n",
       "      <td>wides</td>\n",
       "      <td>1</td>\n",
       "      <td></td>\n",
       "      <td></td>\n",
       "      <td></td>\n",
       "    </tr>\n",
       "    <tr>\n",
       "      <th>3</th>\n",
       "      <td>335987</td>\n",
       "      <td>1</td>\n",
       "      <td>1</td>\n",
       "      <td>4</td>\n",
       "      <td>1</td>\n",
       "      <td>2</td>\n",
       "      <td>2</td>\n",
       "      <td>2</td>\n",
       "      <td>1</td>\n",
       "      <td>14</td>\n",
       "      <td>0</td>\n",
       "      <td></td>\n",
       "      <td></td>\n",
       "      <td></td>\n",
       "      <td></td>\n",
       "      <td></td>\n",
       "    </tr>\n",
       "    <tr>\n",
       "      <th>4</th>\n",
       "      <td>335987</td>\n",
       "      <td>1</td>\n",
       "      <td>1</td>\n",
       "      <td>5</td>\n",
       "      <td>1</td>\n",
       "      <td>2</td>\n",
       "      <td>2</td>\n",
       "      <td>2</td>\n",
       "      <td>1</td>\n",
       "      <td>14</td>\n",
       "      <td>0</td>\n",
       "      <td></td>\n",
       "      <td></td>\n",
       "      <td></td>\n",
       "      <td></td>\n",
       "      <td></td>\n",
       "    </tr>\n",
       "  </tbody>\n",
       "</table>\n",
       "</div>"
      ],
      "text/plain": [
       "   Match_Id  Innings_Id  Over_Id  Ball_Id  Team_Batting_Id  Team_Bowling_Id  \\\n",
       "0    335987           1        1        1                1                2   \n",
       "1    335987           1        1        2                1                2   \n",
       "2    335987           1        1        3                1                2   \n",
       "3    335987           1        1        4                1                2   \n",
       "4    335987           1        1        5                1                2   \n",
       "\n",
       "   Striker_Id  Striker_Batting_Position  Non_Striker_Id  Bowler_Id  \\\n",
       "0           1                         1               2         14   \n",
       "1           2                         2               1         14   \n",
       "2           2                         2               1         14   \n",
       "3           2                         2               1         14   \n",
       "4           2                         2               1         14   \n",
       "\n",
       "  Batsman_Scored Extra_Type Extra_Runs Player_dissimal_Id Dissimal_Type  \\\n",
       "0              0    legbyes          1                                    \n",
       "1              0                                                          \n",
       "2              0      wides          1                                    \n",
       "3              0                                                          \n",
       "4              0                                                          \n",
       "\n",
       "  Fielder_Id  \n",
       "0             \n",
       "1             \n",
       "2             \n",
       "3             \n",
       "4             "
      ]
     },
     "execution_count": 11,
     "metadata": {},
     "output_type": "execute_result"
    }
   ],
   "source": [
    "data.head()"
   ]
  },
  {
   "cell_type": "code",
   "execution_count": 14,
   "id": "9a7a4c2f",
   "metadata": {},
   "outputs": [],
   "source": [
    "deliveries = pd.read_csv(\"Indian Premier League.zip\");"
   ]
  },
  {
   "cell_type": "code",
   "execution_count": 16,
   "id": "e6516906",
   "metadata": {},
   "outputs": [],
   "source": [
    "matches = pd.read_csv(\"Match.csv\");"
   ]
  },
  {
   "cell_type": "code",
   "execution_count": 19,
   "id": "a77aacc6",
   "metadata": {},
   "outputs": [],
   "source": [
    "player_match = pd.read_csv(\"Player_Match.csv\");"
   ]
  },
  {
   "cell_type": "code",
   "execution_count": 20,
   "id": "fdbb4f7d",
   "metadata": {},
   "outputs": [],
   "source": [
    "player = pd.read_csv(\"Player.csv\");"
   ]
  },
  {
   "cell_type": "code",
   "execution_count": 21,
   "id": "92b1872f",
   "metadata": {},
   "outputs": [],
   "source": [
    "season = pd.read_csv(\"Season.csv\");"
   ]
  },
  {
   "cell_type": "code",
   "execution_count": 23,
   "id": "0ba49c17",
   "metadata": {},
   "outputs": [],
   "source": [
    "teams = pd.read_csv(\"Team.csv\");"
   ]
  },
  {
   "cell_type": "code",
   "execution_count": 24,
   "id": "350ede63",
   "metadata": {},
   "outputs": [
    {
     "name": "stdout",
     "output_type": "stream",
     "text": [
      "Deliveries Dataset\n"
     ]
    }
   ],
   "source": [
    "print(\"Deliveries Dataset\")"
   ]
  },
  {
   "cell_type": "code",
   "execution_count": 25,
   "id": "853e349a",
   "metadata": {},
   "outputs": [
    {
     "name": "stdout",
     "output_type": "stream",
     "text": [
      "['Match_Id' 'Innings_Id' 'Over_Id' 'Ball_Id' 'Team_Batting_Id'\n",
      " 'Team_Bowling_Id' 'Striker_Id' 'Striker_Batting_Position'\n",
      " 'Non_Striker_Id' 'Bowler_Id' 'Batsman_Scored' 'Extra_Type' 'Extra_Runs'\n",
      " 'Player_dissimal_Id' 'Dissimal_Type' 'Fielder_Id']\n"
     ]
    }
   ],
   "source": [
    "print(deliveries.columns.values)"
   ]
  },
  {
   "cell_type": "code",
   "execution_count": 26,
   "id": "fbcc38d1",
   "metadata": {},
   "outputs": [
    {
     "name": "stdout",
     "output_type": "stream",
     "text": [
      "________________________________________________________________________________\n"
     ]
    }
   ],
   "source": [
    "print('_'*80)"
   ]
  },
  {
   "cell_type": "code",
   "execution_count": 27,
   "id": "7c396fdb",
   "metadata": {},
   "outputs": [
    {
     "name": "stdout",
     "output_type": "stream",
     "text": [
      "Matches Dataset\n"
     ]
    }
   ],
   "source": [
    "print(\"Matches Dataset\")"
   ]
  },
  {
   "cell_type": "code",
   "execution_count": 28,
   "id": "df012877",
   "metadata": {},
   "outputs": [
    {
     "name": "stdout",
     "output_type": "stream",
     "text": [
      "['Match_Id' 'Match_Date' 'Team_Name_Id' 'Opponent_Team_Id' 'Season_Id'\n",
      " 'Venue_Name' 'Toss_Winner_Id' 'Toss_Decision' 'IS_Superover' 'IS_Result'\n",
      " 'Is_DuckWorthLewis' 'Win_Type' 'Won_By' 'Match_Winner_Id'\n",
      " 'Man_Of_The_Match_Id' 'First_Umpire_Id' 'Second_Umpire_Id' 'City_Name'\n",
      " 'Host_Country']\n"
     ]
    }
   ],
   "source": [
    "print(matches.columns.values)"
   ]
  },
  {
   "cell_type": "code",
   "execution_count": 29,
   "id": "b3e85530",
   "metadata": {},
   "outputs": [
    {
     "name": "stdout",
     "output_type": "stream",
     "text": [
      "________________________________________________________________________________\n"
     ]
    }
   ],
   "source": [
    "print('_'*80)"
   ]
  },
  {
   "cell_type": "code",
   "execution_count": 30,
   "id": "4524e1ec",
   "metadata": {},
   "outputs": [
    {
     "name": "stdout",
     "output_type": "stream",
     "text": [
      "Player Match Dataset\n"
     ]
    }
   ],
   "source": [
    "print(\"Player Match Dataset\")"
   ]
  },
  {
   "cell_type": "code",
   "execution_count": 31,
   "id": "b8b409ef",
   "metadata": {},
   "outputs": [
    {
     "name": "stdout",
     "output_type": "stream",
     "text": [
      "['Match_Id' 'Player_Id' 'Team_Id' 'Is_Keeper' 'Is_Captain']\n"
     ]
    }
   ],
   "source": [
    "print(player_match.columns.values)"
   ]
  },
  {
   "cell_type": "code",
   "execution_count": 32,
   "id": "9ed9bea8",
   "metadata": {},
   "outputs": [
    {
     "name": "stdout",
     "output_type": "stream",
     "text": [
      "________________________________________________________________________________\n"
     ]
    }
   ],
   "source": [
    "print('_'*80)"
   ]
  },
  {
   "cell_type": "code",
   "execution_count": 33,
   "id": "a14bac05",
   "metadata": {},
   "outputs": [
    {
     "name": "stdout",
     "output_type": "stream",
     "text": [
      "Player Dataset\n"
     ]
    }
   ],
   "source": [
    "print(\"Player Dataset\")"
   ]
  },
  {
   "cell_type": "code",
   "execution_count": 34,
   "id": "a3723204",
   "metadata": {},
   "outputs": [
    {
     "name": "stdout",
     "output_type": "stream",
     "text": [
      "['Player_Id' 'Player_Name' 'DOB' 'Batting_Hand' 'Bowling_Skill' 'Country'\n",
      " 'Is_Umpire' 'Unnamed: 7']\n"
     ]
    }
   ],
   "source": [
    "print(player.columns.values)"
   ]
  },
  {
   "cell_type": "code",
   "execution_count": 35,
   "id": "2f54f8f3",
   "metadata": {},
   "outputs": [
    {
     "name": "stdout",
     "output_type": "stream",
     "text": [
      "________________________________________________________________________________\n"
     ]
    }
   ],
   "source": [
    "print('_'*80)"
   ]
  },
  {
   "cell_type": "code",
   "execution_count": 36,
   "id": "751638aa",
   "metadata": {},
   "outputs": [
    {
     "name": "stdout",
     "output_type": "stream",
     "text": [
      "Season Dataset\n"
     ]
    }
   ],
   "source": [
    "print(\"Season Dataset\")"
   ]
  },
  {
   "cell_type": "code",
   "execution_count": 37,
   "id": "fd66d30c",
   "metadata": {},
   "outputs": [
    {
     "name": "stdout",
     "output_type": "stream",
     "text": [
      "['Season_Id' 'Season_Year' 'Orange_Cap_Id' 'Purple_Cap_Id'\n",
      " 'Man_of_the_Series_Id']\n"
     ]
    }
   ],
   "source": [
    "print(season.columns.values)"
   ]
  },
  {
   "cell_type": "code",
   "execution_count": 38,
   "id": "e3db3c49",
   "metadata": {},
   "outputs": [
    {
     "name": "stdout",
     "output_type": "stream",
     "text": [
      "________________________________________________________________________________\n"
     ]
    }
   ],
   "source": [
    "print('_'*80)"
   ]
  },
  {
   "cell_type": "code",
   "execution_count": 39,
   "id": "09711990",
   "metadata": {},
   "outputs": [
    {
     "name": "stdout",
     "output_type": "stream",
     "text": [
      "Teams Dataset\n"
     ]
    }
   ],
   "source": [
    "print(\"Teams Dataset\")"
   ]
  },
  {
   "cell_type": "code",
   "execution_count": 40,
   "id": "e6f879be",
   "metadata": {},
   "outputs": [
    {
     "name": "stdout",
     "output_type": "stream",
     "text": [
      "['Team_Id' 'Team_Name' 'Team_Short_Code']\n"
     ]
    }
   ],
   "source": [
    "print(teams.columns.values)"
   ]
  },
  {
   "cell_type": "code",
   "execution_count": 41,
   "id": "03f82adc",
   "metadata": {},
   "outputs": [
    {
     "name": "stdout",
     "output_type": "stream",
     "text": [
      "________________________________________________________________________________\n"
     ]
    }
   ],
   "source": [
    "print('_'*80)"
   ]
  },
  {
   "cell_type": "code",
   "execution_count": 42,
   "id": "6a98c70b",
   "metadata": {},
   "outputs": [
    {
     "name": "stdout",
     "output_type": "stream",
     "text": [
      "Deliveries Dataset\n"
     ]
    }
   ],
   "source": [
    "print(\"Deliveries Dataset\")"
   ]
  },
  {
   "cell_type": "code",
   "execution_count": 43,
   "id": "e4d7b2f2",
   "metadata": {},
   "outputs": [
    {
     "name": "stdout",
     "output_type": "stream",
     "text": [
      "   Match_Id  Innings_Id  Over_Id  Ball_Id  Team_Batting_Id  Team_Bowling_Id  \\\n",
      "0    335987           1        1        1                1                2   \n",
      "1    335987           1        1        2                1                2   \n",
      "2    335987           1        1        3                1                2   \n",
      "3    335987           1        1        4                1                2   \n",
      "4    335987           1        1        5                1                2   \n",
      "\n",
      "   Striker_Id  Striker_Batting_Position  Non_Striker_Id  Bowler_Id  \\\n",
      "0           1                         1               2         14   \n",
      "1           2                         2               1         14   \n",
      "2           2                         2               1         14   \n",
      "3           2                         2               1         14   \n",
      "4           2                         2               1         14   \n",
      "\n",
      "  Batsman_Scored Extra_Type Extra_Runs Player_dissimal_Id Dissimal_Type  \\\n",
      "0              0    legbyes          1                                    \n",
      "1              0                                                          \n",
      "2              0      wides          1                                    \n",
      "3              0                                                          \n",
      "4              0                                                          \n",
      "\n",
      "  Fielder_Id  \n",
      "0             \n",
      "1             \n",
      "2             \n",
      "3             \n",
      "4             \n"
     ]
    }
   ],
   "source": [
    "print(deliveries.head())"
   ]
  },
  {
   "cell_type": "code",
   "execution_count": 45,
   "id": "ebf3e2e3",
   "metadata": {},
   "outputs": [
    {
     "name": "stdout",
     "output_type": "stream",
     "text": [
      "Matches Dataset\n"
     ]
    }
   ],
   "source": [
    "print(\"Matches Dataset\")"
   ]
  },
  {
   "cell_type": "code",
   "execution_count": 46,
   "id": "1e92f6c4",
   "metadata": {},
   "outputs": [
    {
     "name": "stdout",
     "output_type": "stream",
     "text": [
      "   Match_Id Match_Date  Team_Name_Id  Opponent_Team_Id  Season_Id  \\\n",
      "0    335987  18-Apr-08             2                 1          1   \n",
      "1    335988  19-Apr-08             4                 3          1   \n",
      "2    335989  19-Apr-08             6                 5          1   \n",
      "3    335990  20-Apr-08             7                 2          1   \n",
      "4    335991  20-Apr-08             1                 8          1   \n",
      "\n",
      "                                   Venue_Name  Toss_Winner_Id Toss_Decision  \\\n",
      "0                       M Chinnaswamy Stadium               2         field   \n",
      "1  Punjab Cricket Association Stadium, Mohali               3           bat   \n",
      "2                            Feroz Shah Kotla               5           bat   \n",
      "3                            Wankhede Stadium               7           bat   \n",
      "4                                Eden Gardens               8           bat   \n",
      "\n",
      "   IS_Superover  IS_Result  Is_DuckWorthLewis    Win_Type  Won_By  \\\n",
      "0             0          1                  0     by runs   140.0   \n",
      "1             0          1                  0     by runs    33.0   \n",
      "2             0          1                  0  by wickets     9.0   \n",
      "3             0          1                  0  by wickets     5.0   \n",
      "4             0          1                  0  by wickets     5.0   \n",
      "\n",
      "   Match_Winner_Id  Man_Of_The_Match_Id  First_Umpire_Id  Second_Umpire_Id  \\\n",
      "0              1.0                  2.0              470               477   \n",
      "1              3.0                 19.0              471               487   \n",
      "2              6.0                 90.0              472               512   \n",
      "3              2.0                 11.0              473               476   \n",
      "4              1.0                  4.0              474               486   \n",
      "\n",
      "    City_Name Host_Country  \n",
      "0   Bangalore        India  \n",
      "1  Chandigarh        India  \n",
      "2       Delhi        India  \n",
      "3      Mumbai        India  \n",
      "4     Kolkata        India  \n"
     ]
    }
   ],
   "source": [
    "print(matches.head())"
   ]
  },
  {
   "cell_type": "code",
   "execution_count": 47,
   "id": "0d11f8c1",
   "metadata": {},
   "outputs": [
    {
     "name": "stdout",
     "output_type": "stream",
     "text": [
      "________________________________________________________________________________\n"
     ]
    }
   ],
   "source": [
    "print('_'*80)"
   ]
  },
  {
   "cell_type": "code",
   "execution_count": 48,
   "id": "51a85855",
   "metadata": {},
   "outputs": [
    {
     "name": "stdout",
     "output_type": "stream",
     "text": [
      "Player Match Dataset\n"
     ]
    }
   ],
   "source": [
    "print(\"Player Match Dataset\")"
   ]
  },
  {
   "cell_type": "code",
   "execution_count": 49,
   "id": "9e7bbf12",
   "metadata": {},
   "outputs": [
    {
     "name": "stdout",
     "output_type": "stream",
     "text": [
      "   Match_Id  Player_Id  Team_Id  Is_Keeper  Is_Captain\n",
      "0    335987          1        1          0           1\n",
      "1    335987          2        1          0           0\n",
      "2    335987          3        1          0           0\n",
      "3    335987          4        1          0           0\n",
      "4    335987          5        1          0           0\n"
     ]
    }
   ],
   "source": [
    "print(player_match.head())"
   ]
  },
  {
   "cell_type": "code",
   "execution_count": 50,
   "id": "ab92065a",
   "metadata": {},
   "outputs": [
    {
     "name": "stdout",
     "output_type": "stream",
     "text": [
      "________________________________________________________________________________\n"
     ]
    }
   ],
   "source": [
    "print('_'*80)"
   ]
  },
  {
   "cell_type": "code",
   "execution_count": 51,
   "id": "9f23538a",
   "metadata": {},
   "outputs": [
    {
     "name": "stdout",
     "output_type": "stream",
     "text": [
      "Player Dataset\n"
     ]
    }
   ],
   "source": [
    "print(\"Player Dataset\")"
   ]
  },
  {
   "cell_type": "code",
   "execution_count": 52,
   "id": "5e824425",
   "metadata": {},
   "outputs": [
    {
     "name": "stdout",
     "output_type": "stream",
     "text": [
      "   Player_Id      Player_Name        DOB Batting_Hand       Bowling_Skill  \\\n",
      "0          1       SC Ganguly   8-Jul-72    Left_Hand    Right-arm medium   \n",
      "1          2      BB McCullum  27-Sep-81   Right_Hand    Right-arm medium   \n",
      "2          3       RT Ponting  19-Dec-74   Right_Hand    Right-arm medium   \n",
      "3          4        DJ Hussey  15-Jul-77   Right_Hand  Right-arm offbreak   \n",
      "4          5  Mohammad Hafeez  17-Oct-80   Right_Hand  Right-arm offbreak   \n",
      "\n",
      "       Country  Is_Umpire  Unnamed: 7  \n",
      "0        India          0         NaN  \n",
      "1  New Zealand          0         NaN  \n",
      "2    Australia          0         NaN  \n",
      "3    Australia          0         NaN  \n",
      "4     Pakistan          0         NaN  \n"
     ]
    }
   ],
   "source": [
    "print(player.head())"
   ]
  },
  {
   "cell_type": "code",
   "execution_count": 53,
   "id": "a6731aa3",
   "metadata": {},
   "outputs": [
    {
     "name": "stdout",
     "output_type": "stream",
     "text": [
      "________________________________________________________________________________\n"
     ]
    }
   ],
   "source": [
    "print('_'*80)"
   ]
  },
  {
   "cell_type": "code",
   "execution_count": 54,
   "id": "5beac21f",
   "metadata": {},
   "outputs": [
    {
     "name": "stdout",
     "output_type": "stream",
     "text": [
      "Season Dataset\n"
     ]
    }
   ],
   "source": [
    "print(\"Season Dataset\")"
   ]
  },
  {
   "cell_type": "code",
   "execution_count": 55,
   "id": "dec1ed3b",
   "metadata": {},
   "outputs": [
    {
     "name": "stdout",
     "output_type": "stream",
     "text": [
      "   Season_Id  Season_Year  Orange_Cap_Id  Purple_Cap_Id  Man_of_the_Series_Id\n",
      "0          1         2008            100            102                    32\n",
      "1          2         2009             18             61                    53\n",
      "2          3         2010            133            131                   133\n",
      "3          4         2011            162            194                   162\n",
      "4          5         2012            162            190                   315\n"
     ]
    }
   ],
   "source": [
    "print(season.head())"
   ]
  },
  {
   "cell_type": "code",
   "execution_count": 56,
   "id": "01c934c1",
   "metadata": {},
   "outputs": [
    {
     "name": "stdout",
     "output_type": "stream",
     "text": [
      "________________________________________________________________________________\n"
     ]
    }
   ],
   "source": [
    "print('_'*80)"
   ]
  },
  {
   "cell_type": "code",
   "execution_count": 57,
   "id": "ec07280a",
   "metadata": {},
   "outputs": [
    {
     "name": "stdout",
     "output_type": "stream",
     "text": [
      "Teams Dataset\n"
     ]
    }
   ],
   "source": [
    "print(\"Teams Dataset\")"
   ]
  },
  {
   "cell_type": "code",
   "execution_count": 58,
   "id": "fcadf339",
   "metadata": {},
   "outputs": [
    {
     "name": "stdout",
     "output_type": "stream",
     "text": [
      "   Team_Id                    Team_Name Team_Short_Code\n",
      "0        1        Kolkata Knight Riders             KKR\n",
      "1        2  Royal Challengers Bangalore             RCB\n",
      "2        3          Chennai Super Kings             CSK\n",
      "3        4              Kings XI Punjab            KXIP\n",
      "4        5             Rajasthan Royals              RR\n"
     ]
    }
   ],
   "source": [
    "print(teams.head())"
   ]
  },
  {
   "cell_type": "code",
   "execution_count": 59,
   "id": "f7f5ff9a",
   "metadata": {},
   "outputs": [
    {
     "name": "stdout",
     "output_type": "stream",
     "text": [
      "________________________________________________________________________________\n"
     ]
    }
   ],
   "source": [
    "print('_'*80)"
   ]
  },
  {
   "cell_type": "code",
   "execution_count": 60,
   "id": "113d74eb",
   "metadata": {},
   "outputs": [
    {
     "data": {
      "text/html": [
       "<div>\n",
       "<style scoped>\n",
       "    .dataframe tbody tr th:only-of-type {\n",
       "        vertical-align: middle;\n",
       "    }\n",
       "\n",
       "    .dataframe tbody tr th {\n",
       "        vertical-align: top;\n",
       "    }\n",
       "\n",
       "    .dataframe thead th {\n",
       "        text-align: right;\n",
       "    }\n",
       "</style>\n",
       "<table border=\"1\" class=\"dataframe\">\n",
       "  <thead>\n",
       "    <tr style=\"text-align: right;\">\n",
       "      <th></th>\n",
       "      <th>Match_Id</th>\n",
       "      <th>Innings_Id</th>\n",
       "      <th>Over_Id</th>\n",
       "      <th>Ball_Id</th>\n",
       "      <th>Team_Batting_Id</th>\n",
       "      <th>Team_Bowling_Id</th>\n",
       "      <th>Striker_Id</th>\n",
       "      <th>Striker_Batting_Position</th>\n",
       "      <th>Non_Striker_Id</th>\n",
       "      <th>Bowler_Id</th>\n",
       "      <th>Batsman_Scored</th>\n",
       "      <th>Extra_Type</th>\n",
       "      <th>Extra_Runs</th>\n",
       "      <th>Player_dissimal_Id</th>\n",
       "      <th>Dissimal_Type</th>\n",
       "      <th>Fielder_Id</th>\n",
       "    </tr>\n",
       "  </thead>\n",
       "  <tbody>\n",
       "    <tr>\n",
       "      <th>0</th>\n",
       "      <td>335987</td>\n",
       "      <td>1</td>\n",
       "      <td>1</td>\n",
       "      <td>1</td>\n",
       "      <td>1</td>\n",
       "      <td>2</td>\n",
       "      <td>1</td>\n",
       "      <td>1</td>\n",
       "      <td>2</td>\n",
       "      <td>14</td>\n",
       "      <td>0</td>\n",
       "      <td>legbyes</td>\n",
       "      <td>1</td>\n",
       "      <td></td>\n",
       "      <td></td>\n",
       "      <td></td>\n",
       "    </tr>\n",
       "    <tr>\n",
       "      <th>1</th>\n",
       "      <td>335987</td>\n",
       "      <td>1</td>\n",
       "      <td>1</td>\n",
       "      <td>2</td>\n",
       "      <td>1</td>\n",
       "      <td>2</td>\n",
       "      <td>2</td>\n",
       "      <td>2</td>\n",
       "      <td>1</td>\n",
       "      <td>14</td>\n",
       "      <td>0</td>\n",
       "      <td></td>\n",
       "      <td></td>\n",
       "      <td></td>\n",
       "      <td></td>\n",
       "      <td></td>\n",
       "    </tr>\n",
       "    <tr>\n",
       "      <th>2</th>\n",
       "      <td>335987</td>\n",
       "      <td>1</td>\n",
       "      <td>1</td>\n",
       "      <td>3</td>\n",
       "      <td>1</td>\n",
       "      <td>2</td>\n",
       "      <td>2</td>\n",
       "      <td>2</td>\n",
       "      <td>1</td>\n",
       "      <td>14</td>\n",
       "      <td>0</td>\n",
       "      <td>wides</td>\n",
       "      <td>1</td>\n",
       "      <td></td>\n",
       "      <td></td>\n",
       "      <td></td>\n",
       "    </tr>\n",
       "    <tr>\n",
       "      <th>3</th>\n",
       "      <td>335987</td>\n",
       "      <td>1</td>\n",
       "      <td>1</td>\n",
       "      <td>4</td>\n",
       "      <td>1</td>\n",
       "      <td>2</td>\n",
       "      <td>2</td>\n",
       "      <td>2</td>\n",
       "      <td>1</td>\n",
       "      <td>14</td>\n",
       "      <td>0</td>\n",
       "      <td></td>\n",
       "      <td></td>\n",
       "      <td></td>\n",
       "      <td></td>\n",
       "      <td></td>\n",
       "    </tr>\n",
       "    <tr>\n",
       "      <th>4</th>\n",
       "      <td>335987</td>\n",
       "      <td>1</td>\n",
       "      <td>1</td>\n",
       "      <td>5</td>\n",
       "      <td>1</td>\n",
       "      <td>2</td>\n",
       "      <td>2</td>\n",
       "      <td>2</td>\n",
       "      <td>1</td>\n",
       "      <td>14</td>\n",
       "      <td>0</td>\n",
       "      <td></td>\n",
       "      <td></td>\n",
       "      <td></td>\n",
       "      <td></td>\n",
       "      <td></td>\n",
       "    </tr>\n",
       "  </tbody>\n",
       "</table>\n",
       "</div>"
      ],
      "text/plain": [
       "   Match_Id  Innings_Id  Over_Id  Ball_Id  Team_Batting_Id  Team_Bowling_Id  \\\n",
       "0    335987           1        1        1                1                2   \n",
       "1    335987           1        1        2                1                2   \n",
       "2    335987           1        1        3                1                2   \n",
       "3    335987           1        1        4                1                2   \n",
       "4    335987           1        1        5                1                2   \n",
       "\n",
       "   Striker_Id  Striker_Batting_Position  Non_Striker_Id  Bowler_Id  \\\n",
       "0           1                         1               2         14   \n",
       "1           2                         2               1         14   \n",
       "2           2                         2               1         14   \n",
       "3           2                         2               1         14   \n",
       "4           2                         2               1         14   \n",
       "\n",
       "  Batsman_Scored Extra_Type Extra_Runs Player_dissimal_Id Dissimal_Type  \\\n",
       "0              0    legbyes          1                                    \n",
       "1              0                                                          \n",
       "2              0      wides          1                                    \n",
       "3              0                                                          \n",
       "4              0                                                          \n",
       "\n",
       "  Fielder_Id  \n",
       "0             \n",
       "1             \n",
       "2             \n",
       "3             \n",
       "4             "
      ]
     },
     "execution_count": 60,
     "metadata": {},
     "output_type": "execute_result"
    }
   ],
   "source": [
    "data.head()"
   ]
  },
  {
   "cell_type": "code",
   "execution_count": 61,
   "id": "66b2129c",
   "metadata": {},
   "outputs": [
    {
     "name": "stdout",
     "output_type": "stream",
     "text": [
      "Deliveries Dataset\n",
      "   Match_Id  Innings_Id  Over_Id  Ball_Id  Team_Batting_Id  Team_Bowling_Id  \\\n",
      "0    335987           1        1        1                1                2   \n",
      "1    335987           1        1        2                1                2   \n",
      "2    335987           1        1        3                1                2   \n",
      "3    335987           1        1        4                1                2   \n",
      "4    335987           1        1        5                1                2   \n",
      "\n",
      "   Striker_Id  Striker_Batting_Position  Non_Striker_Id  Bowler_Id  \\\n",
      "0           1                         1               2         14   \n",
      "1           2                         2               1         14   \n",
      "2           2                         2               1         14   \n",
      "3           2                         2               1         14   \n",
      "4           2                         2               1         14   \n",
      "\n",
      "  Batsman_Scored Extra_Type Extra_Runs Player_dissimal_Id Dissimal_Type  \\\n",
      "0              0    legbyes          1                                    \n",
      "1              0                                                          \n",
      "2              0      wides          1                                    \n",
      "3              0                                                          \n",
      "4              0                                                          \n",
      "\n",
      "  Fielder_Id  \n",
      "0             \n",
      "1             \n",
      "2             \n",
      "3             \n",
      "4             \n",
      "________________________________________________________________________________\n",
      "Matches Dataset\n",
      "   Match_Id Match_Date  Team_Name_Id  Opponent_Team_Id  Season_Id  \\\n",
      "0    335987  18-Apr-08             2                 1          1   \n",
      "1    335988  19-Apr-08             4                 3          1   \n",
      "2    335989  19-Apr-08             6                 5          1   \n",
      "3    335990  20-Apr-08             7                 2          1   \n",
      "4    335991  20-Apr-08             1                 8          1   \n",
      "\n",
      "                                   Venue_Name  Toss_Winner_Id Toss_Decision  \\\n",
      "0                       M Chinnaswamy Stadium               2         field   \n",
      "1  Punjab Cricket Association Stadium, Mohali               3           bat   \n",
      "2                            Feroz Shah Kotla               5           bat   \n",
      "3                            Wankhede Stadium               7           bat   \n",
      "4                                Eden Gardens               8           bat   \n",
      "\n",
      "   IS_Superover  IS_Result  Is_DuckWorthLewis    Win_Type  Won_By  \\\n",
      "0             0          1                  0     by runs   140.0   \n",
      "1             0          1                  0     by runs    33.0   \n",
      "2             0          1                  0  by wickets     9.0   \n",
      "3             0          1                  0  by wickets     5.0   \n",
      "4             0          1                  0  by wickets     5.0   \n",
      "\n",
      "   Match_Winner_Id  Man_Of_The_Match_Id  First_Umpire_Id  Second_Umpire_Id  \\\n",
      "0              1.0                  2.0              470               477   \n",
      "1              3.0                 19.0              471               487   \n",
      "2              6.0                 90.0              472               512   \n",
      "3              2.0                 11.0              473               476   \n",
      "4              1.0                  4.0              474               486   \n",
      "\n",
      "    City_Name Host_Country  \n",
      "0   Bangalore        India  \n",
      "1  Chandigarh        India  \n",
      "2       Delhi        India  \n",
      "3      Mumbai        India  \n",
      "4     Kolkata        India  \n",
      "________________________________________________________________________________\n",
      "Player Match Dataset\n",
      "   Match_Id  Player_Id  Team_Id  Is_Keeper  Is_Captain\n",
      "0    335987          1        1          0           1\n",
      "1    335987          2        1          0           0\n",
      "2    335987          3        1          0           0\n",
      "3    335987          4        1          0           0\n",
      "4    335987          5        1          0           0\n",
      "________________________________________________________________________________\n",
      "Player Dataset\n",
      "   Player_Id      Player_Name        DOB Batting_Hand       Bowling_Skill  \\\n",
      "0          1       SC Ganguly   8-Jul-72    Left_Hand    Right-arm medium   \n",
      "1          2      BB McCullum  27-Sep-81   Right_Hand    Right-arm medium   \n",
      "2          3       RT Ponting  19-Dec-74   Right_Hand    Right-arm medium   \n",
      "3          4        DJ Hussey  15-Jul-77   Right_Hand  Right-arm offbreak   \n",
      "4          5  Mohammad Hafeez  17-Oct-80   Right_Hand  Right-arm offbreak   \n",
      "\n",
      "       Country  Is_Umpire  Unnamed: 7  \n",
      "0        India          0         NaN  \n",
      "1  New Zealand          0         NaN  \n",
      "2    Australia          0         NaN  \n",
      "3    Australia          0         NaN  \n",
      "4     Pakistan          0         NaN  \n",
      "________________________________________________________________________________\n",
      "Season Dataset\n",
      "   Season_Id  Season_Year  Orange_Cap_Id  Purple_Cap_Id  Man_of_the_Series_Id\n",
      "0          1         2008            100            102                    32\n",
      "1          2         2009             18             61                    53\n",
      "2          3         2010            133            131                   133\n",
      "3          4         2011            162            194                   162\n",
      "4          5         2012            162            190                   315\n",
      "________________________________________________________________________________\n",
      "Teams Dataset\n",
      "   Team_Id                    Team_Name Team_Short_Code\n",
      "0        1        Kolkata Knight Riders             KKR\n",
      "1        2  Royal Challengers Bangalore             RCB\n",
      "2        3          Chennai Super Kings             CSK\n",
      "3        4              Kings XI Punjab            KXIP\n",
      "4        5             Rajasthan Royals              RR\n",
      "________________________________________________________________________________\n"
     ]
    }
   ],
   "source": [
    "print(\"Deliveries Dataset\")\n",
    "print(deliveries.head())\n",
    "print('_'*80)\n",
    "print(\"Matches Dataset\")\n",
    "print(matches.head())\n",
    "print('_'*80)\n",
    "print(\"Player Match Dataset\")\n",
    "print(player_match.head())\n",
    "print('_'*80)\n",
    "print(\"Player Dataset\")\n",
    "print(player.head())\n",
    "print('_'*80)\n",
    "print(\"Season Dataset\")\n",
    "print(season.head())\n",
    "print('_'*80)\n",
    "print(\"Teams Dataset\")\n",
    "print(teams.head())\n",
    "print('_'*80)"
   ]
  },
  {
   "cell_type": "code",
   "execution_count": 63,
   "id": "7cb73db7",
   "metadata": {},
   "outputs": [
    {
     "name": "stdout",
     "output_type": "stream",
     "text": [
      "Deliveries Dataset\n",
      "<class 'pandas.core.frame.DataFrame'>\n",
      "RangeIndex: 136590 entries, 0 to 136589\n",
      "Data columns (total 16 columns):\n",
      " #   Column                    Non-Null Count   Dtype \n",
      "---  ------                    --------------   ----- \n",
      " 0   Match_Id                  136590 non-null  int64 \n",
      " 1   Innings_Id                136590 non-null  int64 \n",
      " 2   Over_Id                   136590 non-null  int64 \n",
      " 3   Ball_Id                   136590 non-null  int64 \n",
      " 4   Team_Batting_Id           136590 non-null  int64 \n",
      " 5   Team_Bowling_Id           136590 non-null  int64 \n",
      " 6   Striker_Id                136590 non-null  int64 \n",
      " 7   Striker_Batting_Position  136590 non-null  int64 \n",
      " 8   Non_Striker_Id            136590 non-null  int64 \n",
      " 9   Bowler_Id                 136590 non-null  int64 \n",
      " 10  Batsman_Scored            136590 non-null  object\n",
      " 11  Extra_Type                136590 non-null  object\n",
      " 12  Extra_Runs                136590 non-null  object\n",
      " 13  Player_dissimal_Id        136590 non-null  object\n",
      " 14  Dissimal_Type             136590 non-null  object\n",
      " 15  Fielder_Id                136590 non-null  object\n",
      "dtypes: int64(10), object(6)\n",
      "memory usage: 16.7+ MB\n",
      "None\n",
      "________________________________________________________________________________\n",
      "Matches Dataset\n",
      "<class 'pandas.core.frame.DataFrame'>\n",
      "RangeIndex: 577 entries, 0 to 576\n",
      "Data columns (total 19 columns):\n",
      " #   Column               Non-Null Count  Dtype  \n",
      "---  ------               --------------  -----  \n",
      " 0   Match_Id             577 non-null    int64  \n",
      " 1   Match_Date           577 non-null    object \n",
      " 2   Team_Name_Id         577 non-null    int64  \n",
      " 3   Opponent_Team_Id     577 non-null    int64  \n",
      " 4   Season_Id            577 non-null    int64  \n",
      " 5   Venue_Name           577 non-null    object \n",
      " 6   Toss_Winner_Id       577 non-null    int64  \n",
      " 7   Toss_Decision        577 non-null    object \n",
      " 8   IS_Superover         577 non-null    int64  \n",
      " 9   IS_Result            577 non-null    int64  \n",
      " 10  Is_DuckWorthLewis    577 non-null    int64  \n",
      " 11  Win_Type             577 non-null    object \n",
      " 12  Won_By               568 non-null    float64\n",
      " 13  Match_Winner_Id      574 non-null    float64\n",
      " 14  Man_Of_The_Match_Id  574 non-null    float64\n",
      " 15  First_Umpire_Id      577 non-null    int64  \n",
      " 16  Second_Umpire_Id     577 non-null    int64  \n",
      " 17  City_Name            577 non-null    object \n",
      " 18  Host_Country         577 non-null    object \n",
      "dtypes: float64(3), int64(10), object(6)\n",
      "memory usage: 85.8+ KB\n",
      "None\n",
      "________________________________________________________________________________\n",
      "Player Match Dataset\n",
      "<class 'pandas.core.frame.DataFrame'>\n",
      "RangeIndex: 12694 entries, 0 to 12693\n",
      "Data columns (total 5 columns):\n",
      " #   Column      Non-Null Count  Dtype\n",
      "---  ------      --------------  -----\n",
      " 0   Match_Id    12694 non-null  int64\n",
      " 1   Player_Id   12694 non-null  int64\n",
      " 2   Team_Id     12694 non-null  int64\n",
      " 3   Is_Keeper   12694 non-null  int64\n",
      " 4   Is_Captain  12694 non-null  int64\n",
      "dtypes: int64(5)\n",
      "memory usage: 496.0 KB\n",
      "None\n",
      "________________________________________________________________________________\n",
      "Player Dataset\n",
      "<class 'pandas.core.frame.DataFrame'>\n",
      "RangeIndex: 523 entries, 0 to 522\n",
      "Data columns (total 8 columns):\n",
      " #   Column         Non-Null Count  Dtype  \n",
      "---  ------         --------------  -----  \n",
      " 0   Player_Id      523 non-null    int64  \n",
      " 1   Player_Name    523 non-null    object \n",
      " 2   DOB            471 non-null    object \n",
      " 3   Batting_Hand   471 non-null    object \n",
      " 4   Bowling_Skill  427 non-null    object \n",
      " 5   Country        523 non-null    object \n",
      " 6   Is_Umpire      523 non-null    int64  \n",
      " 7   Unnamed: 7     12 non-null     float64\n",
      "dtypes: float64(1), int64(2), object(5)\n",
      "memory usage: 32.8+ KB\n",
      "None\n",
      "________________________________________________________________________________\n",
      "Season Dataset\n",
      "<class 'pandas.core.frame.DataFrame'>\n",
      "RangeIndex: 9 entries, 0 to 8\n",
      "Data columns (total 5 columns):\n",
      " #   Column                Non-Null Count  Dtype\n",
      "---  ------                --------------  -----\n",
      " 0   Season_Id             9 non-null      int64\n",
      " 1   Season_Year           9 non-null      int64\n",
      " 2   Orange_Cap_Id         9 non-null      int64\n",
      " 3   Purple_Cap_Id         9 non-null      int64\n",
      " 4   Man_of_the_Series_Id  9 non-null      int64\n",
      "dtypes: int64(5)\n",
      "memory usage: 488.0 bytes\n",
      "None\n",
      "________________________________________________________________________________\n",
      "Teams Dataset\n",
      "<class 'pandas.core.frame.DataFrame'>\n",
      "RangeIndex: 13 entries, 0 to 12\n",
      "Data columns (total 3 columns):\n",
      " #   Column           Non-Null Count  Dtype \n",
      "---  ------           --------------  ----- \n",
      " 0   Team_Id          13 non-null     int64 \n",
      " 1   Team_Name        13 non-null     object\n",
      " 2   Team_Short_Code  13 non-null     object\n",
      "dtypes: int64(1), object(2)\n",
      "memory usage: 440.0+ bytes\n",
      "None\n",
      "________________________________________________________________________________\n"
     ]
    }
   ],
   "source": [
    "print(\"Deliveries Dataset\")\n",
    "print(deliveries.info())\n",
    "print('_'*80)\n",
    "print(\"Matches Dataset\")\n",
    "print(matches.info())\n",
    "print('_'*80)\n",
    "print(\"Player Match Dataset\")\n",
    "print(player_match.info())\n",
    "print('_'*80)\n",
    "print(\"Player Dataset\")\n",
    "print(player.info())\n",
    "print('_'*80)\n",
    "print(\"Season Dataset\")\n",
    "print(season.info())\n",
    "print('_'*80)\n",
    "print(\"Teams Dataset\")\n",
    "print(teams.info())\n",
    "print('_'*80)"
   ]
  },
  {
   "cell_type": "code",
   "execution_count": 67,
   "id": "768ef8a6",
   "metadata": {},
   "outputs": [],
   "source": [
    "deliveries[\"Team_Batting\"] = pd.merge(deliveries, teams[[\"Team_Id\",\"Team_Short_Code\"]], how='left', left_on='Team_Batting_Id',right_on='Team_Id')[\"Team_Short_Code\"]"
   ]
  },
  {
   "cell_type": "code",
   "execution_count": 68,
   "id": "4d7fc42a",
   "metadata": {},
   "outputs": [],
   "source": [
    "deliveries[\"Team_Bowling\"] = pd.merge(deliveries, teams[[\"Team_Id\",\"Team_Short_Code\"]], how='left', left_on='Team_Bowling_Id',right_on='Team_Id')[\"Team_Short_Code\"]"
   ]
  },
  {
   "cell_type": "code",
   "execution_count": 69,
   "id": "ea148479",
   "metadata": {},
   "outputs": [],
   "source": [
    "deliveries[\"Striker\"] = pd.merge(deliveries, player[[\"Player_Id\",\"Player_Name\"]], how='left', left_on='Striker_Id',right_on='Player_Id')[\"Player_Name\"]"
   ]
  },
  {
   "cell_type": "code",
   "execution_count": 70,
   "id": "bc4a2748",
   "metadata": {},
   "outputs": [],
   "source": [
    "deliveries[\"Non_Striker\"] = pd.merge(deliveries, player[[\"Player_Id\",\"Player_Name\"]], how='left', left_on='Non_Striker_Id',right_on='Player_Id')[\"Player_Name\"]\n"
   ]
  },
  {
   "cell_type": "code",
   "execution_count": 71,
   "id": "bad16870",
   "metadata": {},
   "outputs": [],
   "source": [
    "deliveries[\"Bowler\"] = pd.merge(deliveries, player[[\"Player_Id\",\"Player_Name\"]], how='left', left_on='Bowler_Id',right_on='Player_Id')[\"Player_Name\"]"
   ]
  },
  {
   "cell_type": "code",
   "execution_count": 72,
   "id": "3d739a57",
   "metadata": {},
   "outputs": [],
   "source": [
    "deliveries[\"Bowler\"] = pd.merge(deliveries, player[[\"Player_Id\",\"Player_Name\"]], how='left', left_on='Bowler_Id',right_on='Player_Id')[\"Player_Name\"]"
   ]
  },
  {
   "cell_type": "code",
   "execution_count": 73,
   "id": "83ce3309",
   "metadata": {},
   "outputs": [],
   "source": [
    "deliveries.drop([\"Team_Batting_Id\",\"Team_Bowling_Id\",\"Player_dissimal_Id\",\"Fielder_Id\",\"Bowler_Id\",\"Non_Striker_Id\",\"Striker_Id\"], axis=1, inplace=True)"
   ]
  },
  {
   "cell_type": "code",
   "execution_count": 74,
   "id": "d9dba321",
   "metadata": {},
   "outputs": [
    {
     "name": "stdout",
     "output_type": "stream",
     "text": [
      "   Match_Id  Innings_Id  Over_Id  Ball_Id  Striker_Batting_Position  \\\n",
      "0    335987           1        1        1                         1   \n",
      "1    335987           1        1        2                         2   \n",
      "2    335987           1        1        3                         2   \n",
      "3    335987           1        1        4                         2   \n",
      "4    335987           1        1        5                         2   \n",
      "\n",
      "  Batsman_Scored Extra_Type Extra_Runs Dissimal_Type Team_Batting  \\\n",
      "0              0    legbyes          1                        KKR   \n",
      "1              0                                              KKR   \n",
      "2              0      wides          1                        KKR   \n",
      "3              0                                              KKR   \n",
      "4              0                                              KKR   \n",
      "\n",
      "  Team_Bowling      Striker  Non_Striker   Bowler  \n",
      "0          RCB   SC Ganguly  BB McCullum  P Kumar  \n",
      "1          RCB  BB McCullum   SC Ganguly  P Kumar  \n",
      "2          RCB  BB McCullum   SC Ganguly  P Kumar  \n",
      "3          RCB  BB McCullum   SC Ganguly  P Kumar  \n",
      "4          RCB  BB McCullum   SC Ganguly  P Kumar  \n"
     ]
    }
   ],
   "source": [
    "print(deliveries.head())"
   ]
  },
  {
   "cell_type": "code",
   "execution_count": 75,
   "id": "9c96feb0",
   "metadata": {},
   "outputs": [],
   "source": [
    "matches[\"Team_Name\"] = pd.merge(matches, teams[[\"Team_Id\",\"Team_Short_Code\"]], how='left', left_on='Team_Name_Id',right_on='Team_Id')[\"Team_Short_Code\"]"
   ]
  },
  {
   "cell_type": "code",
   "execution_count": 76,
   "id": "0321a04e",
   "metadata": {},
   "outputs": [],
   "source": [
    "matches[\"Opponent_Team\"] = pd.merge(matches, teams[[\"Team_Id\",\"Team_Short_Code\"]], how='left', left_on='Opponent_Team_Id',right_on='Team_Id')[\"Team_Short_Code\"]"
   ]
  },
  {
   "cell_type": "code",
   "execution_count": 77,
   "id": "0ce072b7",
   "metadata": {},
   "outputs": [],
   "source": [
    "matches[\"Toss_Winner\"] = pd.merge(matches, teams[[\"Team_Id\",\"Team_Short_Code\"]], how='left', left_on='Toss_Winner_Id',right_on='Team_Id')[\"Team_Short_Code\"]"
   ]
  },
  {
   "cell_type": "code",
   "execution_count": 78,
   "id": "775699ce",
   "metadata": {},
   "outputs": [],
   "source": [
    "matches[\"Match_Winner\"] = pd.merge(matches, teams[[\"Team_Id\",\"Team_Short_Code\"]], how='left', left_on='Match_Winner_Id',right_on='Team_Id')[\"Team_Short_Code\"]"
   ]
  },
  {
   "cell_type": "code",
   "execution_count": 79,
   "id": "0d31d24e",
   "metadata": {},
   "outputs": [],
   "source": [
    "matches[\"Man_Of_The_Match\"] = pd.merge(matches, player[[\"Player_Id\",\"Player_Name\"]], how='left', left_on='Man_Of_The_Match_Id',right_on='Player_Id')[\"Player_Name\"]"
   ]
  },
  {
   "cell_type": "code",
   "execution_count": 80,
   "id": "2fce762d",
   "metadata": {},
   "outputs": [],
   "source": [
    "matches.drop([\"Team_Name_Id\",\"Opponent_Team_Id\",\"Toss_Winner_Id\",\"Match_Winner_Id\",\"Man_Of_The_Match_Id\",\"Second_Umpire_Id\",\"First_Umpire_Id\"], axis=1, inplace=True)"
   ]
  },
  {
   "cell_type": "code",
   "execution_count": 81,
   "id": "a3339f5f",
   "metadata": {},
   "outputs": [
    {
     "name": "stdout",
     "output_type": "stream",
     "text": [
      "   Match_Id Match_Date  Season_Id                                  Venue_Name  \\\n",
      "0    335987  18-Apr-08          1                       M Chinnaswamy Stadium   \n",
      "1    335988  19-Apr-08          1  Punjab Cricket Association Stadium, Mohali   \n",
      "2    335989  19-Apr-08          1                            Feroz Shah Kotla   \n",
      "3    335990  20-Apr-08          1                            Wankhede Stadium   \n",
      "4    335991  20-Apr-08          1                                Eden Gardens   \n",
      "\n",
      "  Toss_Decision  IS_Superover  IS_Result  Is_DuckWorthLewis    Win_Type  \\\n",
      "0         field             0          1                  0     by runs   \n",
      "1           bat             0          1                  0     by runs   \n",
      "2           bat             0          1                  0  by wickets   \n",
      "3           bat             0          1                  0  by wickets   \n",
      "4           bat             0          1                  0  by wickets   \n",
      "\n",
      "   Won_By   City_Name Host_Country Team_Name Opponent_Team Toss_Winner  \\\n",
      "0   140.0   Bangalore        India       RCB           KKR         RCB   \n",
      "1    33.0  Chandigarh        India      KXIP           CSK         CSK   \n",
      "2     9.0       Delhi        India        DD            RR          RR   \n",
      "3     5.0      Mumbai        India        MI           RCB          MI   \n",
      "4     5.0     Kolkata        India       KKR            DC          DC   \n",
      "\n",
      "  Match_Winner Man_Of_The_Match  \n",
      "0          KKR      BB McCullum  \n",
      "1          CSK       MEK Hussey  \n",
      "2           DD      MF Maharoof  \n",
      "3          RCB       MV Boucher  \n",
      "4          KKR        DJ Hussey  \n"
     ]
    }
   ],
   "source": [
    "print(matches.head())"
   ]
  },
  {
   "cell_type": "code",
   "execution_count": 90,
   "id": "31d53e85",
   "metadata": {},
   "outputs": [
    {
     "ename": "IndentationError",
     "evalue": "expected an indented block (1735404454.py, line 7)",
     "output_type": "error",
     "traceback": [
      "\u001b[1;36m  Input \u001b[1;32mIn [90]\u001b[1;36m\u001b[0m\n\u001b[1;33m    final_match_index = matches[matches['Season_Id']==year][-1:].index.values[0]\u001b[0m\n\u001b[1;37m    ^\u001b[0m\n\u001b[1;31mIndentationError\u001b[0m\u001b[1;31m:\u001b[0m expected an indented block\n"
     ]
    }
   ],
   "source": [
    "for year in range(1,3):\n",
    "    final_match_index = matches[matches['Season_Id']==year][-1:].index.values[0]\n",
    "    matches = matches.set_value(final_match_index, \"type\", \"final\")\n",
    "    matches = matches.set_value(final_match_index-1, \"type\", \"semifinal-2\")\n",
    "    matches = matches.set_value(final_match_index-2, \"type\", \"semifinal-1\")\n",
    "    for year in range(3,4):\n",
    "    final_match_index = matches[matches['Season_Id']==year][-1:].index.values[0]\n",
    "    matches = matches.set_value(final_match_index, \"type\", \"final\")\n",
    "    matches = matches.set_value(final_match_index-1, \"type\", \"3rd-place\")\n",
    "    matches = matches.set_value(final_match_index-2, \"type\", \"semifinal-2\")\n",
    "    matches = matches.set_value(final_match_index-3, \"type\", \"semifinal-1\")\n",
    "    for year in range(4,10):\n",
    "    final_match_index = matches[matches['Season_Id']==year][-1:].index.values[0]\n",
    "    matches = matches.set_value(final_match_index, \"type\", \"final\")\n",
    "    matches = matches.set_value(final_match_index-1, \"type\", \"qualifier-2\")\n",
    "    matches = matches.set_value(final_match_index-2, \"type\", \"eliminator\")\n",
    "    matches = matches.set_value(final_match_index-3, \"type\", \"qualifier-1\")\n",
    "            "
   ]
  },
  {
   "cell_type": "code",
   "execution_count": 91,
   "id": "a0ab17f3",
   "metadata": {},
   "outputs": [
    {
     "data": {
      "text/plain": [
       "type\n",
       "pre-qualifier    577\n",
       "Name: Match_Id, dtype: int64"
      ]
     },
     "execution_count": 91,
     "metadata": {},
     "output_type": "execute_result"
    }
   ],
   "source": [
    "matches.groupby([\"type\"])[\"Match_Id\"].count()"
   ]
  },
  {
   "cell_type": "code",
   "execution_count": 92,
   "id": "4cad7aaf",
   "metadata": {},
   "outputs": [
    {
     "name": "stdout",
     "output_type": "stream",
     "text": [
      "CH Gayle  : has most man of the match awards\n",
      "MI : has the highest number of match wins\n"
     ]
    }
   ],
   "source": [
    "print((matches['Man_Of_The_Match'].value_counts()).idxmax(),' : has most man of the match awards')\n",
    "print(((matches['Match_Winner']).value_counts()).idxmax(),': has the highest number of match wins')"
   ]
  },
  {
   "cell_type": "code",
   "execution_count": 93,
   "id": "ddff0bb4",
   "metadata": {},
   "outputs": [
    {
     "data": {
      "image/png": "[encoded data removed]",
      "text/plain": [
       "<Figure size 432x288 with 1 Axes>"
      ]
     },
     "metadata": {
      "needs_background": "light"
     },
     "output_type": "display_data"
    }
   ],
   "source": [
    "sns.countplot(x='Season_Id', data=matches)\n",
    "plt.show()"
   ]
  },
  {
   "cell_type": "code",
   "execution_count": 94,
   "id": "c9251260",
   "metadata": {},
   "outputs": [
    {
     "data": {
      "image/png": "[encoded data removed]",
      "text/plain": [
       "<Figure size 864x432 with 1 Axes>"
      ]
     },
     "metadata": {
      "needs_background": "light"
     },
     "output_type": "display_data"
    }
   ],
   "source": [
    "plt.figure(figsize=(12,6))\n",
    "sns.countplot(y='Venue_Name', data=matches)\n",
    "plt.yticks(rotation='horizontal')\n",
    "plt.show()"
   ]
  },
  {
   "cell_type": "code",
   "execution_count": 95,
   "id": "0a1b5f45",
   "metadata": {},
   "outputs": [
    {
     "data": {
      "image/png": "[encoded data removed]",
      "text/plain": [
       "<Figure size 864x432 with 1 Axes>"
      ]
     },
     "metadata": {
      "needs_background": "light"
     },
     "output_type": "display_data"
    }
   ],
   "source": [
    "plt.figure(figsize=(12,6))\n",
    "sns.countplot(x='Match_Winner', data=matches)\n",
    "plt.xticks(rotation='vertical')\n",
    "plt.show()"
   ]
  },
  {
   "cell_type": "code",
   "execution_count": null,
   "id": "90af48a1",
   "metadata": {},
   "outputs": [],
   "source": []
  }
 ],
 "metadata": {
  "kernelspec": {
   "display_name": "Python 3 (ipykernel)",
   "language": "python",
   "name": "python3"
  },
  "language_info": {
   "codemirror_mode": {
    "name": "ipython",
    "version": 3
   },
   "file_extension": ".py",
   "mimetype": "text/x-python",
   "name": "python",
   "nbconvert_exporter": "python",
   "pygments_lexer": "ipython3",
   "version": "3.9.12"
  }
 },
 "nbformat": 4,
 "nbformat_minor": 5
}
